{
 "cells": [
  {
   "cell_type": "markdown",
   "metadata": {},
   "source": [
    "# 0. Import Libraries"
   ]
  },
  {
   "cell_type": "code",
   "execution_count": 1,
   "metadata": {},
   "outputs": [],
   "source": [
    "import pandas as pd\n",
    "import numpy as np\n",
    "import matplotlib.pyplot as plt\n",
    "import seaborn as sns\n",
    "import itertools\n",
    "from sklearn.tree import DecisionTreeClassifier\n",
    "from sklearn.ensemble import RandomForestClassifier\n",
    "from sklearn.model_selection import train_test_split, KFold\n",
    "from sklearn.utils import resample\n",
    "from sklearn.metrics import classification_report, accuracy_score\n",
    "import warnings\n",
    "warnings.filterwarnings('ignore')"
   ]
  },
  {
   "cell_type": "markdown",
   "metadata": {},
   "source": [
    "# 1. Load Data\n",
    "\n",
    "Your data should be placed in the directory where this jupyter notebook is located"
   ]
  },
  {
   "cell_type": "code",
   "execution_count": 2,
   "metadata": {},
   "outputs": [
    {
     "name": "stdout",
     "output_type": "stream",
     "text": [
      "data shape : (40060, 31)\n",
      "columns : \n",
      " ['IsCanceled', 'LeadTime', 'ArrivalDateYear', 'ArrivalDateMonth', 'ArrivalDateWeekNumber', 'ArrivalDateDayOfMonth', 'StaysInWeekendNights', 'StaysInWeekNights', 'Adults', 'Children', 'Babies', 'Meal', 'Country', 'MarketSegment', 'DistributionChannel', 'IsRepeatedGuest', 'PreviousCancellations', 'PreviousBookingsNotCanceled', 'ReservedRoomType', 'AssignedRoomType', 'BookingChanges', 'DepositType', 'Agent', 'Company', 'DaysInWaitingList', 'CustomerType', 'ADR', 'RequiredCarParkingSpaces', 'TotalOfSpecialRequests', 'ReservationStatus', 'ReservationStatusDate']\n"
     ]
    }
   ],
   "source": [
    "data = pd.read_csv('./H1.csv')\n",
    "print('data shape : {}'.format(data.shape))\n",
    "print('columns : \\n {}'.format(list(data.columns)))"
   ]
  },
  {
   "cell_type": "code",
   "execution_count": 3,
   "metadata": {},
   "outputs": [
    {
     "data": {
      "text/html": [
       "<div>\n",
       "<style scoped>\n",
       "    .dataframe tbody tr th:only-of-type {\n",
       "        vertical-align: middle;\n",
       "    }\n",
       "\n",
       "    .dataframe tbody tr th {\n",
       "        vertical-align: top;\n",
       "    }\n",
       "\n",
       "    .dataframe thead th {\n",
       "        text-align: right;\n",
       "    }\n",
       "</style>\n",
       "<table border=\"1\" class=\"dataframe\">\n",
       "  <thead>\n",
       "    <tr style=\"text-align: right;\">\n",
       "      <th></th>\n",
       "      <th>IsCanceled</th>\n",
       "      <th>LeadTime</th>\n",
       "      <th>ArrivalDateYear</th>\n",
       "      <th>ArrivalDateMonth</th>\n",
       "      <th>ArrivalDateWeekNumber</th>\n",
       "      <th>ArrivalDateDayOfMonth</th>\n",
       "      <th>StaysInWeekendNights</th>\n",
       "      <th>StaysInWeekNights</th>\n",
       "      <th>Adults</th>\n",
       "      <th>Children</th>\n",
       "      <th>...</th>\n",
       "      <th>DepositType</th>\n",
       "      <th>Agent</th>\n",
       "      <th>Company</th>\n",
       "      <th>DaysInWaitingList</th>\n",
       "      <th>CustomerType</th>\n",
       "      <th>ADR</th>\n",
       "      <th>RequiredCarParkingSpaces</th>\n",
       "      <th>TotalOfSpecialRequests</th>\n",
       "      <th>ReservationStatus</th>\n",
       "      <th>ReservationStatusDate</th>\n",
       "    </tr>\n",
       "  </thead>\n",
       "  <tbody>\n",
       "    <tr>\n",
       "      <td>0</td>\n",
       "      <td>0</td>\n",
       "      <td>342</td>\n",
       "      <td>2015</td>\n",
       "      <td>July</td>\n",
       "      <td>27</td>\n",
       "      <td>1</td>\n",
       "      <td>0</td>\n",
       "      <td>0</td>\n",
       "      <td>2</td>\n",
       "      <td>0</td>\n",
       "      <td>...</td>\n",
       "      <td>No Deposit</td>\n",
       "      <td>NULL</td>\n",
       "      <td>NULL</td>\n",
       "      <td>0</td>\n",
       "      <td>Transient</td>\n",
       "      <td>0.0</td>\n",
       "      <td>0</td>\n",
       "      <td>0</td>\n",
       "      <td>Check-Out</td>\n",
       "      <td>2015-07-01</td>\n",
       "    </tr>\n",
       "    <tr>\n",
       "      <td>1</td>\n",
       "      <td>0</td>\n",
       "      <td>737</td>\n",
       "      <td>2015</td>\n",
       "      <td>July</td>\n",
       "      <td>27</td>\n",
       "      <td>1</td>\n",
       "      <td>0</td>\n",
       "      <td>0</td>\n",
       "      <td>2</td>\n",
       "      <td>0</td>\n",
       "      <td>...</td>\n",
       "      <td>No Deposit</td>\n",
       "      <td>NULL</td>\n",
       "      <td>NULL</td>\n",
       "      <td>0</td>\n",
       "      <td>Transient</td>\n",
       "      <td>0.0</td>\n",
       "      <td>0</td>\n",
       "      <td>0</td>\n",
       "      <td>Check-Out</td>\n",
       "      <td>2015-07-01</td>\n",
       "    </tr>\n",
       "    <tr>\n",
       "      <td>2</td>\n",
       "      <td>0</td>\n",
       "      <td>7</td>\n",
       "      <td>2015</td>\n",
       "      <td>July</td>\n",
       "      <td>27</td>\n",
       "      <td>1</td>\n",
       "      <td>0</td>\n",
       "      <td>1</td>\n",
       "      <td>1</td>\n",
       "      <td>0</td>\n",
       "      <td>...</td>\n",
       "      <td>No Deposit</td>\n",
       "      <td>NULL</td>\n",
       "      <td>NULL</td>\n",
       "      <td>0</td>\n",
       "      <td>Transient</td>\n",
       "      <td>75.0</td>\n",
       "      <td>0</td>\n",
       "      <td>0</td>\n",
       "      <td>Check-Out</td>\n",
       "      <td>2015-07-02</td>\n",
       "    </tr>\n",
       "    <tr>\n",
       "      <td>3</td>\n",
       "      <td>0</td>\n",
       "      <td>13</td>\n",
       "      <td>2015</td>\n",
       "      <td>July</td>\n",
       "      <td>27</td>\n",
       "      <td>1</td>\n",
       "      <td>0</td>\n",
       "      <td>1</td>\n",
       "      <td>1</td>\n",
       "      <td>0</td>\n",
       "      <td>...</td>\n",
       "      <td>No Deposit</td>\n",
       "      <td>304</td>\n",
       "      <td>NULL</td>\n",
       "      <td>0</td>\n",
       "      <td>Transient</td>\n",
       "      <td>75.0</td>\n",
       "      <td>0</td>\n",
       "      <td>0</td>\n",
       "      <td>Check-Out</td>\n",
       "      <td>2015-07-02</td>\n",
       "    </tr>\n",
       "    <tr>\n",
       "      <td>4</td>\n",
       "      <td>0</td>\n",
       "      <td>14</td>\n",
       "      <td>2015</td>\n",
       "      <td>July</td>\n",
       "      <td>27</td>\n",
       "      <td>1</td>\n",
       "      <td>0</td>\n",
       "      <td>2</td>\n",
       "      <td>2</td>\n",
       "      <td>0</td>\n",
       "      <td>...</td>\n",
       "      <td>No Deposit</td>\n",
       "      <td>240</td>\n",
       "      <td>NULL</td>\n",
       "      <td>0</td>\n",
       "      <td>Transient</td>\n",
       "      <td>98.0</td>\n",
       "      <td>0</td>\n",
       "      <td>1</td>\n",
       "      <td>Check-Out</td>\n",
       "      <td>2015-07-03</td>\n",
       "    </tr>\n",
       "    <tr>\n",
       "      <td>5</td>\n",
       "      <td>0</td>\n",
       "      <td>14</td>\n",
       "      <td>2015</td>\n",
       "      <td>July</td>\n",
       "      <td>27</td>\n",
       "      <td>1</td>\n",
       "      <td>0</td>\n",
       "      <td>2</td>\n",
       "      <td>2</td>\n",
       "      <td>0</td>\n",
       "      <td>...</td>\n",
       "      <td>No Deposit</td>\n",
       "      <td>240</td>\n",
       "      <td>NULL</td>\n",
       "      <td>0</td>\n",
       "      <td>Transient</td>\n",
       "      <td>98.0</td>\n",
       "      <td>0</td>\n",
       "      <td>1</td>\n",
       "      <td>Check-Out</td>\n",
       "      <td>2015-07-03</td>\n",
       "    </tr>\n",
       "    <tr>\n",
       "      <td>6</td>\n",
       "      <td>0</td>\n",
       "      <td>0</td>\n",
       "      <td>2015</td>\n",
       "      <td>July</td>\n",
       "      <td>27</td>\n",
       "      <td>1</td>\n",
       "      <td>0</td>\n",
       "      <td>2</td>\n",
       "      <td>2</td>\n",
       "      <td>0</td>\n",
       "      <td>...</td>\n",
       "      <td>No Deposit</td>\n",
       "      <td>NULL</td>\n",
       "      <td>NULL</td>\n",
       "      <td>0</td>\n",
       "      <td>Transient</td>\n",
       "      <td>107.0</td>\n",
       "      <td>0</td>\n",
       "      <td>0</td>\n",
       "      <td>Check-Out</td>\n",
       "      <td>2015-07-03</td>\n",
       "    </tr>\n",
       "    <tr>\n",
       "      <td>7</td>\n",
       "      <td>0</td>\n",
       "      <td>9</td>\n",
       "      <td>2015</td>\n",
       "      <td>July</td>\n",
       "      <td>27</td>\n",
       "      <td>1</td>\n",
       "      <td>0</td>\n",
       "      <td>2</td>\n",
       "      <td>2</td>\n",
       "      <td>0</td>\n",
       "      <td>...</td>\n",
       "      <td>No Deposit</td>\n",
       "      <td>303</td>\n",
       "      <td>NULL</td>\n",
       "      <td>0</td>\n",
       "      <td>Transient</td>\n",
       "      <td>103.0</td>\n",
       "      <td>0</td>\n",
       "      <td>1</td>\n",
       "      <td>Check-Out</td>\n",
       "      <td>2015-07-03</td>\n",
       "    </tr>\n",
       "    <tr>\n",
       "      <td>8</td>\n",
       "      <td>1</td>\n",
       "      <td>85</td>\n",
       "      <td>2015</td>\n",
       "      <td>July</td>\n",
       "      <td>27</td>\n",
       "      <td>1</td>\n",
       "      <td>0</td>\n",
       "      <td>3</td>\n",
       "      <td>2</td>\n",
       "      <td>0</td>\n",
       "      <td>...</td>\n",
       "      <td>No Deposit</td>\n",
       "      <td>240</td>\n",
       "      <td>NULL</td>\n",
       "      <td>0</td>\n",
       "      <td>Transient</td>\n",
       "      <td>82.0</td>\n",
       "      <td>0</td>\n",
       "      <td>1</td>\n",
       "      <td>Canceled</td>\n",
       "      <td>2015-05-06</td>\n",
       "    </tr>\n",
       "    <tr>\n",
       "      <td>9</td>\n",
       "      <td>1</td>\n",
       "      <td>75</td>\n",
       "      <td>2015</td>\n",
       "      <td>July</td>\n",
       "      <td>27</td>\n",
       "      <td>1</td>\n",
       "      <td>0</td>\n",
       "      <td>3</td>\n",
       "      <td>2</td>\n",
       "      <td>0</td>\n",
       "      <td>...</td>\n",
       "      <td>No Deposit</td>\n",
       "      <td>15</td>\n",
       "      <td>NULL</td>\n",
       "      <td>0</td>\n",
       "      <td>Transient</td>\n",
       "      <td>105.5</td>\n",
       "      <td>0</td>\n",
       "      <td>0</td>\n",
       "      <td>Canceled</td>\n",
       "      <td>2015-04-22</td>\n",
       "    </tr>\n",
       "  </tbody>\n",
       "</table>\n",
       "<p>10 rows × 31 columns</p>\n",
       "</div>"
      ],
      "text/plain": [
       "   IsCanceled  LeadTime  ArrivalDateYear ArrivalDateMonth  \\\n",
       "0           0       342             2015             July   \n",
       "1           0       737             2015             July   \n",
       "2           0         7             2015             July   \n",
       "3           0        13             2015             July   \n",
       "4           0        14             2015             July   \n",
       "5           0        14             2015             July   \n",
       "6           0         0             2015             July   \n",
       "7           0         9             2015             July   \n",
       "8           1        85             2015             July   \n",
       "9           1        75             2015             July   \n",
       "\n",
       "   ArrivalDateWeekNumber  ArrivalDateDayOfMonth  StaysInWeekendNights  \\\n",
       "0                     27                      1                     0   \n",
       "1                     27                      1                     0   \n",
       "2                     27                      1                     0   \n",
       "3                     27                      1                     0   \n",
       "4                     27                      1                     0   \n",
       "5                     27                      1                     0   \n",
       "6                     27                      1                     0   \n",
       "7                     27                      1                     0   \n",
       "8                     27                      1                     0   \n",
       "9                     27                      1                     0   \n",
       "\n",
       "   StaysInWeekNights  Adults  Children  ...      DepositType        Agent  \\\n",
       "0                  0       2         0  ...  No Deposit              NULL   \n",
       "1                  0       2         0  ...  No Deposit              NULL   \n",
       "2                  1       1         0  ...  No Deposit              NULL   \n",
       "3                  1       1         0  ...  No Deposit               304   \n",
       "4                  2       2         0  ...  No Deposit               240   \n",
       "5                  2       2         0  ...  No Deposit               240   \n",
       "6                  2       2         0  ...  No Deposit              NULL   \n",
       "7                  2       2         0  ...  No Deposit               303   \n",
       "8                  3       2         0  ...  No Deposit               240   \n",
       "9                  3       2         0  ...  No Deposit                15   \n",
       "\n",
       "       Company DaysInWaitingList CustomerType    ADR  \\\n",
       "0         NULL                 0    Transient    0.0   \n",
       "1         NULL                 0    Transient    0.0   \n",
       "2         NULL                 0    Transient   75.0   \n",
       "3         NULL                 0    Transient   75.0   \n",
       "4         NULL                 0    Transient   98.0   \n",
       "5         NULL                 0    Transient   98.0   \n",
       "6         NULL                 0    Transient  107.0   \n",
       "7         NULL                 0    Transient  103.0   \n",
       "8         NULL                 0    Transient   82.0   \n",
       "9         NULL                 0    Transient  105.5   \n",
       "\n",
       "   RequiredCarParkingSpaces  TotalOfSpecialRequests ReservationStatus  \\\n",
       "0                         0                       0         Check-Out   \n",
       "1                         0                       0         Check-Out   \n",
       "2                         0                       0         Check-Out   \n",
       "3                         0                       0         Check-Out   \n",
       "4                         0                       1         Check-Out   \n",
       "5                         0                       1         Check-Out   \n",
       "6                         0                       0         Check-Out   \n",
       "7                         0                       1         Check-Out   \n",
       "8                         0                       1          Canceled   \n",
       "9                         0                       0          Canceled   \n",
       "\n",
       "  ReservationStatusDate  \n",
       "0            2015-07-01  \n",
       "1            2015-07-01  \n",
       "2            2015-07-02  \n",
       "3            2015-07-02  \n",
       "4            2015-07-03  \n",
       "5            2015-07-03  \n",
       "6            2015-07-03  \n",
       "7            2015-07-03  \n",
       "8            2015-05-06  \n",
       "9            2015-04-22  \n",
       "\n",
       "[10 rows x 31 columns]"
      ]
     },
     "execution_count": 3,
     "metadata": {},
     "output_type": "execute_result"
    }
   ],
   "source": [
    "data.head(10)"
   ]
  },
  {
   "cell_type": "markdown",
   "metadata": {},
   "source": [
    "# 2. Exploratory Data Analysis\n",
    "This part mostly overlaps with what has been done in our team project. I'll just recap the important variables.<br>You may skip to the third section if you have already seen our team project EDA!\n",
    "\n",
    "## 2.1 How long have you been waiting?\n",
    "Seems to have significant influence to IsCanceled"
   ]
  },
  {
   "cell_type": "code",
   "execution_count": 4,
   "metadata": {},
   "outputs": [
    {
     "data": {
      "image/png": "[encoded data removed]",
      "text/plain": [
       "<Figure size 432x288 with 1 Axes>"
      ]
     },
     "metadata": {
      "needs_background": "light"
     },
     "output_type": "display_data"
    },
    {
     "data": {
      "image/png": "[encoded data removed]",
      "text/plain": [
       "<Figure size 432x288 with 1 Axes>"
      ]
     },
     "metadata": {
      "needs_background": "light"
     },
     "output_type": "display_data"
    }
   ],
   "source": [
    "plt.hist(data['LeadTime'], color='darkcyan', bins=20)\n",
    "plt.title('LeadTime Histogram')\n",
    "plt.xlabel('LeadTime')\n",
    "plt.ylabel('Frequency')\n",
    "plt.show()\n",
    "plt.close()\n",
    "\n",
    "sns.set_palette(sns.color_palette(\"coolwarm\", 2))\n",
    "sns.violinplot(x=\"IsCanceled\", y='LeadTime', data=data)\n",
    "plt.title('LeadTime - IsCanceled Violin Plot')\n",
    "plt.show()\n",
    "plt.close()"
   ]
  },
  {
   "cell_type": "markdown",
   "metadata": {},
   "source": [
    "## 2.2 Time-dependent Variables\n",
    "* There seems to be an increasing trend of cancellation from year 2015 to 2017, but due to lack of historical data regarding years, it would be safe not to use this variable. Otherwise, the model will regard the cancellation will continue to increase in time, which might be a dangerous assumption to make.\n",
    "* There seems to be a seasonal difference. Mainly, spring and summer months and weeks tend to have more cancellations\n",
    "* The Day variable does not seem to have much effect."
   ]
  },
  {
   "cell_type": "code",
   "execution_count": 5,
   "metadata": {
    "scrolled": false
   },
   "outputs": [
    {
     "data": {
      "image/png": "[encoded data removed]",
      "text/plain": [
       "<Figure size 1080x1080 with 4 Axes>"
      ]
     },
     "metadata": {
      "needs_background": "light"
     },
     "output_type": "display_data"
    }
   ],
   "source": [
    "yearly_cancel_rate = data.groupby(data['ArrivalDateYear'])['IsCanceled'].mean()\n",
    "monthly_cancel_rate = data.groupby(data['ArrivalDateMonth'])['IsCanceled'].mean()\n",
    "monthly_cancel_rate = monthly_cancel_rate[['January','February','March','April','May','June','July','August',\n",
    "                           'September','October','November','December']]\n",
    "weekly_cancel_rate = data.groupby(data['ArrivalDateWeekNumber'])['IsCanceled'].mean()\n",
    "daily_cancel_rate = data.groupby(data['ArrivalDateDayOfMonth'])['IsCanceled'].mean()\n",
    "\n",
    "fig, ax = plt.subplots(2,2,figsize=(15,15))\n",
    "fig.suptitle('Time Dependent Variables')\n",
    "ax[0,0].bar(yearly_cancel_rate.index, yearly_cancel_rate)\n",
    "ax[0,0].set_xticks([2015,2016,2017])\n",
    "ax[0,0].set_xlabel('Year')\n",
    "ax[0,0].set_ylabel('Cancellation Ratio')\n",
    "\n",
    "ax[0,1].bar(monthly_cancel_rate.index, monthly_cancel_rate)\n",
    "ax[0,1].tick_params(axis='x',rotation=45)\n",
    "ax[0,1].set_xlabel('Month')\n",
    "ax[0,1].set_ylabel('Cancellation Ratio')\n",
    "\n",
    "\n",
    "ax[1,0].bar(weekly_cancel_rate.index, weekly_cancel_rate)\n",
    "ax[1,0].set_xlabel('Week Number')\n",
    "ax[1,0].set_ylabel('Cancellation Ratio')\n",
    "\n",
    "ax[1,1].bar(daily_cancel_rate.index, daily_cancel_rate)\n",
    "ax[1,1].set_xlabel('Day')\n",
    "ax[1,1].set_ylabel('Cancellation Ratio')\n",
    "plt.show()\n",
    "plt.close()"
   ]
  },
  {
   "cell_type": "markdown",
   "metadata": {},
   "source": [
    "## 2.3 Number of People\n",
    "Generally, the more people you have, the more cancellation there may be. The difference is subtle, so we might as well simply aggregate the numbers of adults, children, and babies and make a new variable"
   ]
  },
  {
   "cell_type": "code",
   "execution_count": 6,
   "metadata": {},
   "outputs": [
    {
     "data": {
      "image/png": "[encoded data removed]",
      "text/plain": [
       "<Figure size 864x864 with 4 Axes>"
      ]
     },
     "metadata": {
      "needs_background": "light"
     },
     "output_type": "display_data"
    }
   ],
   "source": [
    "data['peoplecount'] = data['Adults'] + data['Children'] + data['Babies']\n",
    "fig, ax = plt.subplots(2,2,figsize=(12,12))\n",
    "fig.suptitle('Number of People')\n",
    "sns.set_palette(sns.color_palette(\"coolwarm\", 2))\n",
    "sns.violinplot(ax=ax[0,0],x=\"IsCanceled\", y='Adults', data=data)\n",
    "sns.violinplot(ax=ax[0,1],x=\"IsCanceled\", y='Children', data=data)\n",
    "sns.violinplot(ax=ax[1,0],x=\"IsCanceled\", y='Babies', data=data)\n",
    "sns.set_palette(sns.dark_palette(\"purple\"))\n",
    "sns.violinplot(ax=ax[1,1],x=\"IsCanceled\", y='peoplecount', data=data)\n",
    "plt.show()\n",
    "plt.close()"
   ]
  },
  {
   "cell_type": "markdown",
   "metadata": {},
   "source": [
    "## 2.4 Meals\n",
    "Interestingly, the meal type does seem to have effect."
   ]
  },
  {
   "cell_type": "code",
   "execution_count": 7,
   "metadata": {},
   "outputs": [
    {
     "data": {
      "image/png": "[encoded data removed]",
      "text/plain": [
       "<Figure size 432x288 with 1 Axes>"
      ]
     },
     "metadata": {
      "needs_background": "light"
     },
     "output_type": "display_data"
    },
    {
     "name": "stdout",
     "output_type": "stream",
     "text": [
      "Meal\n",
      "BB           30005\n",
      "FB             754\n",
      "HB            8046\n",
      "SC              86\n",
      "Undefined     1169\n",
      "Name: Meal, dtype: int64\n"
     ]
    }
   ],
   "source": [
    "meal = data.groupby(data['Meal']).mean()['IsCanceled']\n",
    "plt.bar(x=meal.index, height=meal.values, color='khaki')\n",
    "plt.title('Meal - IsCanceled Bar Plot')\n",
    "plt.xlabel('Meal Type')\n",
    "plt.ylabel('cancellation ratio')\n",
    "plt.show()\n",
    "plt.close()\n",
    "\n",
    "print(data['Meal'].groupby(data['Meal']).count())"
   ]
  },
  {
   "cell_type": "markdown",
   "metadata": {},
   "source": [
    "## 2.5 Distribution Channel\n",
    "People who have booked their rooms via Traveling Agents and Tour Operators had slightly greater"
   ]
  },
  {
   "cell_type": "code",
   "execution_count": 8,
   "metadata": {},
   "outputs": [
    {
     "data": {
      "image/png": "[encoded data removed]",
      "text/plain": [
       "<Figure size 432x288 with 1 Axes>"
      ]
     },
     "metadata": {
      "needs_background": "light"
     },
     "output_type": "display_data"
    }
   ],
   "source": [
    "distchan = data.groupby(data['DistributionChannel']).mean()['IsCanceled']\n",
    "plt.bar(x=distchan.index, height=distchan.values, color='lightcoral')\n",
    "plt.title('DistributionChannel - IsCanceled Bar Plot')\n",
    "plt.xlabel('Meal Type')\n",
    "plt.ylabel('cancellation ratio')\n",
    "plt.show()\n",
    "plt.close()"
   ]
  },
  {
   "cell_type": "markdown",
   "metadata": {},
   "source": [
    "## 2.6 Have you been here before?\n",
    "If you have been here before, that means that you were satisfied with the services you've receieved the last time you were here. Therefore, a smaller rate of cancellations"
   ]
  },
  {
   "cell_type": "code",
   "execution_count": 9,
   "metadata": {},
   "outputs": [
    {
     "data": {
      "image/png": "[encoded data removed]",
      "text/plain": [
       "<Figure size 432x288 with 1 Axes>"
      ]
     },
     "metadata": {
      "needs_background": "light"
     },
     "output_type": "display_data"
    }
   ],
   "source": [
    "rep = data.groupby(data['IsRepeatedGuest']).mean()['IsCanceled']\n",
    "plt.bar(x=rep.index, height=rep.values, color='darkgray')\n",
    "plt.xticks([0,1])\n",
    "plt.title('IsRepeatedGuest - IsCanceled Bar Plot')\n",
    "plt.xlabel('IsRepeatedGuest')\n",
    "plt.ylabel('cancellation ratio')\n",
    "plt.show()\n",
    "plt.close()"
   ]
  },
  {
   "cell_type": "markdown",
   "metadata": {},
   "source": [
    "## 2.7 Past Cancellations\n",
    "Of course... People don't change. If you have had cancellations, the more likely you'll cancel this time too :("
   ]
  },
  {
   "cell_type": "code",
   "execution_count": 10,
   "metadata": {},
   "outputs": [
    {
     "data": {
      "image/png": "[encoded data removed]",
      "text/plain": [
       "<Figure size 432x720 with 1 Axes>"
      ]
     },
     "metadata": {
      "needs_background": "light"
     },
     "output_type": "display_data"
    }
   ],
   "source": [
    "# With the PreeviousCancellations and PreviusBookingsNotCanceled variable, we may compute the ratio\n",
    "cancel_rto = data['PreviousCancellations'] / (data['PreviousCancellations'] + data['PreviousBookingsNotCanceled'])\n",
    "cancel_rto = cancel_rto.fillna(0)\n",
    "data['Previous Cancellation Ratio'] = cancel_rto\n",
    "\n",
    "\n",
    "sns.set_palette(sns.color_palette(\"BuGn_r\", 2))\n",
    "fig, ax = plt.subplots(1,1,figsize=(6,10))\n",
    "plt.title('Previous Cancellation Ratio - IsCanceled Bar Plot')\n",
    "sns.violinplot(x=\"IsCanceled\", y='Previous Cancellation Ratio', data=data)\n",
    "plt.show()\n",
    "plt.close()"
   ]
  },
  {
   "cell_type": "markdown",
   "metadata": {},
   "source": [
    "## 2.8 Reserved Room == Assigned Room ?"
   ]
  },
  {
   "cell_type": "code",
   "execution_count": 11,
   "metadata": {},
   "outputs": [
    {
     "data": {
      "image/png": "[encoded data removed]",
      "text/plain": [
       "<Figure size 432x288 with 1 Axes>"
      ]
     },
     "metadata": {
      "needs_background": "light"
     },
     "output_type": "display_data"
    },
    {
     "data": {
      "image/png": "[encoded data removed]",
      "text/plain": [
       "<Figure size 432x288 with 1 Axes>"
      ]
     },
     "metadata": {
      "needs_background": "light"
     },
     "output_type": "display_data"
    },
    {
     "name": "stdout",
     "output_type": "stream",
     "text": [
      "AssignedRoomType\n",
      "A                   17046\n",
      "B                     159\n",
      "C                    2214\n",
      "D                   10339\n",
      "E                    5638\n",
      "F                    1733\n",
      "G                    1853\n",
      "H                     712\n",
      "I                     363\n",
      "L                       1\n",
      "P                       2\n",
      "Name: AssignedRoomType, dtype: int64\n"
     ]
    }
   ],
   "source": [
    "roomtype = data.groupby(data['ReservedRoomType']).mean()['IsCanceled']\n",
    "plt.bar(x=['A','B','C','D','E','F','G','H','L','P'], height=roomtype.values, color='orange')\n",
    "plt.xticks()\n",
    "plt.title('Reserved Room Type')\n",
    "plt.xlabel('ReservedRoomType')\n",
    "plt.ylabel('Cancellation Ratio')\n",
    "plt.show()\n",
    "plt.close()\n",
    "\n",
    "roomtype = data.groupby(data['AssignedRoomType']).mean()['IsCanceled']\n",
    "plt.bar(x=['A','B','C','D','E','F','G','H','I','L','P'], height=roomtype.values, color='gold')\n",
    "plt.xticks()\n",
    "plt.title('Assigned Room Type')\n",
    "plt.xlabel('AssignedRoomType')\n",
    "plt.ylabel('Cancellation Ratio')\n",
    "plt.show()\n",
    "plt.close()\n",
    "\n",
    "print(data['AssignedRoomType'].groupby(data['AssignedRoomType']).count())"
   ]
  },
  {
   "cell_type": "markdown",
   "metadata": {},
   "source": [
    "P and L does seem to be significant, but considering just a few occurrence of them in the dataset, we'd better ignore them.\n",
    "\n",
    "Rather, we might want to take a look at the relation between IsCanceled and the whether the assigned room is different from what was reserved."
   ]
  },
  {
   "cell_type": "code",
   "execution_count": 12,
   "metadata": {},
   "outputs": [
    {
     "data": {
      "image/png": "[encoded data removed]",
      "text/plain": [
       "<Figure size 432x288 with 1 Axes>"
      ]
     },
     "metadata": {
      "needs_background": "light"
     },
     "output_type": "display_data"
    }
   ],
   "source": [
    "# check if assigned room has changed\n",
    "data['SameRoomType'] = (data['ReservedRoomType'] == data['AssignedRoomType']).apply(lambda x: int(x))\n",
    "\n",
    "sameroom = data.groupby(data['SameRoomType']).mean()['IsCanceled']\n",
    "plt.bar(x=sameroom.index, height=sameroom.values, color='thistle')\n",
    "plt.xticks([0,1])\n",
    "plt.xlabel('Is Assigned == Reserved?')\n",
    "plt.ylabel('Cancellation Ratio')\n",
    "plt.show()\n",
    "plt.close()"
   ]
  },
  {
   "cell_type": "markdown",
   "metadata": {},
   "source": [
    "## 2.9 Customer Type\n",
    "Generally, transient customer(s) will tend to cancel more often."
   ]
  },
  {
   "cell_type": "code",
   "execution_count": 13,
   "metadata": {},
   "outputs": [
    {
     "data": {
      "image/png": "[encoded data removed]",
      "text/plain": [
       "<Figure size 432x288 with 1 Axes>"
      ]
     },
     "metadata": {
      "needs_background": "light"
     },
     "output_type": "display_data"
    },
    {
     "name": "stdout",
     "output_type": "stream",
     "text": [
      "CustomerType\n",
      "Contract            1776\n",
      "Group                284\n",
      "Transient          30209\n",
      "Transient-Party     7791\n",
      "Name: IsCanceled, dtype: int64\n"
     ]
    }
   ],
   "source": [
    "custtype = data.groupby(data['CustomerType']).mean()['IsCanceled']\n",
    "plt.bar(x=custtype.index, height=custtype.values)\n",
    "plt.xticks(rotation=45)\n",
    "plt.title('Customer Type - IsCanceled Bar plot')\n",
    "plt.xlabel(\"CustomerType\")\n",
    "plt.ylabel('Cancellation Ratio')\n",
    "plt.show()\n",
    "plt.close()\n",
    "print(data.groupby(data['CustomerType']).count()['IsCanceled'])"
   ]
  },
  {
   "cell_type": "markdown",
   "metadata": {},
   "source": [
    "## 2.10 Parking Space Requested\n",
    "Maybe there are some significant correlations between requested parking spaces and the number of people coming?"
   ]
  },
  {
   "cell_type": "code",
   "execution_count": 14,
   "metadata": {},
   "outputs": [
    {
     "data": {
      "text/html": [
       "<div>\n",
       "<style scoped>\n",
       "    .dataframe tbody tr th:only-of-type {\n",
       "        vertical-align: middle;\n",
       "    }\n",
       "\n",
       "    .dataframe tbody tr th {\n",
       "        vertical-align: top;\n",
       "    }\n",
       "\n",
       "    .dataframe thead th {\n",
       "        text-align: right;\n",
       "    }\n",
       "</style>\n",
       "<table border=\"1\" class=\"dataframe\">\n",
       "  <thead>\n",
       "    <tr style=\"text-align: right;\">\n",
       "      <th></th>\n",
       "      <th>RequiredCarParkingSpaces</th>\n",
       "      <th>peoplecount</th>\n",
       "    </tr>\n",
       "  </thead>\n",
       "  <tbody>\n",
       "    <tr>\n",
       "      <td>RequiredCarParkingSpaces</td>\n",
       "      <td>1.000000</td>\n",
       "      <td>0.039676</td>\n",
       "    </tr>\n",
       "    <tr>\n",
       "      <td>peoplecount</td>\n",
       "      <td>0.039676</td>\n",
       "      <td>1.000000</td>\n",
       "    </tr>\n",
       "  </tbody>\n",
       "</table>\n",
       "</div>"
      ],
      "text/plain": [
       "                          RequiredCarParkingSpaces  peoplecount\n",
       "RequiredCarParkingSpaces                  1.000000     0.039676\n",
       "peoplecount                               0.039676     1.000000"
      ]
     },
     "execution_count": 14,
     "metadata": {},
     "output_type": "execute_result"
    }
   ],
   "source": [
    "data[['RequiredCarParkingSpaces', 'peoplecount']].corr()"
   ]
  },
  {
   "cell_type": "markdown",
   "metadata": {},
   "source": [
    "Nope, ABSOLUTELY no correlation."
   ]
  },
  {
   "cell_type": "code",
   "execution_count": 15,
   "metadata": {},
   "outputs": [
    {
     "data": {
      "image/png": "[encoded data removed]",
      "text/plain": [
       "<Figure size 432x288 with 1 Axes>"
      ]
     },
     "metadata": {
      "needs_background": "light"
     },
     "output_type": "display_data"
    }
   ],
   "source": [
    "parking = data.groupby(data['RequiredCarParkingSpaces']).mean()['IsCanceled']\n",
    "plt.bar(x=parking.index, height=parking.values, color='crimson')\n",
    "plt.xticks(rotation='vertical')\n",
    "plt.title('RequiredCarParkingSpaces - IsCanceled Bar plot')\n",
    "plt.xlabel('number of Parking Spaces Requested')\n",
    "plt.ylabel('Cancellation Ratio')\n",
    "plt.show()\n",
    "plt.close()"
   ]
  },
  {
   "cell_type": "markdown",
   "metadata": {},
   "source": [
    "Hmm.. Interesting. If you requested for any amount of parking spaces, you did not cancel your reservation. This is somewhat reasonable. Requesting for parking spaces may signify you are definitely scheduled to come.\n",
    "\n",
    "For simplicity, maybe we should make this into a binary variable : 0 parking space / non-zero parking space"
   ]
  },
  {
   "cell_type": "markdown",
   "metadata": {},
   "source": [
    "# 3. Preprocessing"
   ]
  },
  {
   "cell_type": "code",
   "execution_count": 16,
   "metadata": {},
   "outputs": [],
   "source": [
    "# aggregate number of people per reservation\n",
    "data['peoplecount'] = data['Adults'] + data['Children'] + data['Babies']\n",
    "\n",
    "# compute previous cancel ratio\n",
    "cancel_rto = data['PreviousCancellations'] / (data['PreviousCancellations'] + data['PreviousBookingsNotCanceled'])\n",
    "cancel_rto = cancel_rto.fillna(0)\n",
    "data['Previous Cancellation Ratio'] = cancel_rto\n",
    "\n",
    "# check if assigned room type is different from the reserved room type\n",
    "data['SameRoomType'] = (data['ReservedRoomType'] == data['AssignedRoomType']).apply(lambda x: int(x))\n",
    "\n",
    "# month to season\n",
    "spr_sum = ['March','April','May','June','July','August']  # 1\n",
    "fal_win = ['September','October','November','December','January','February']  # 0\n",
    "data['ArrivalSeason'] = data['ArrivalDateMonth'].apply(lambda x : int(x in spr_sum))\n",
    "\n",
    "# Reduce Marketsegment\n",
    "ones = ['Online TA','Groups']\n",
    "data['MarketSegENC'] = data['MarketSegment'].apply(lambda x : int(x in ones))\n",
    "\n",
    "# Deposit type to binary : Non-refundable or Not\n",
    "data['NonRefundable'] = data['DepositType'].apply(lambda x : int(x == 'Non Refund'))\n",
    "\n",
    "# Transient Customers or Not\n",
    "ones = ['Transient','Transient-Party']\n",
    "data['TransientCust'] = data['CustomerType'].apply(lambda x : int(x in ones))\n",
    "\n",
    "# Required Parking Space or Not\n",
    "data['NeedParking'] = data['RequiredCarParkingSpaces'].apply(lambda x : int(x != 0))"
   ]
  },
  {
   "cell_type": "code",
   "execution_count": 17,
   "metadata": {},
   "outputs": [
    {
     "data": {
      "text/html": [
       "<div>\n",
       "<style scoped>\n",
       "    .dataframe tbody tr th:only-of-type {\n",
       "        vertical-align: middle;\n",
       "    }\n",
       "\n",
       "    .dataframe tbody tr th {\n",
       "        vertical-align: top;\n",
       "    }\n",
       "\n",
       "    .dataframe thead th {\n",
       "        text-align: right;\n",
       "    }\n",
       "</style>\n",
       "<table border=\"1\" class=\"dataframe\">\n",
       "  <thead>\n",
       "    <tr style=\"text-align: right;\">\n",
       "      <th></th>\n",
       "      <th>IsCanceled</th>\n",
       "      <th>LeadTime</th>\n",
       "      <th>ArrivalSeason</th>\n",
       "      <th>peoplecount</th>\n",
       "      <th>Meal</th>\n",
       "      <th>MarketSegENC</th>\n",
       "      <th>DistributionChannel</th>\n",
       "      <th>IsRepeatedGuest</th>\n",
       "      <th>Previous Cancellation Ratio</th>\n",
       "      <th>SameRoomType</th>\n",
       "      <th>NonRefundable</th>\n",
       "      <th>DaysInWaitingList</th>\n",
       "      <th>TransientCust</th>\n",
       "      <th>NeedParking</th>\n",
       "    </tr>\n",
       "  </thead>\n",
       "  <tbody>\n",
       "    <tr>\n",
       "      <td>0</td>\n",
       "      <td>0</td>\n",
       "      <td>342</td>\n",
       "      <td>1</td>\n",
       "      <td>2</td>\n",
       "      <td>BB</td>\n",
       "      <td>0</td>\n",
       "      <td>Direct</td>\n",
       "      <td>0</td>\n",
       "      <td>0.0</td>\n",
       "      <td>1</td>\n",
       "      <td>0</td>\n",
       "      <td>0</td>\n",
       "      <td>1</td>\n",
       "      <td>0</td>\n",
       "    </tr>\n",
       "    <tr>\n",
       "      <td>1</td>\n",
       "      <td>0</td>\n",
       "      <td>737</td>\n",
       "      <td>1</td>\n",
       "      <td>2</td>\n",
       "      <td>BB</td>\n",
       "      <td>0</td>\n",
       "      <td>Direct</td>\n",
       "      <td>0</td>\n",
       "      <td>0.0</td>\n",
       "      <td>1</td>\n",
       "      <td>0</td>\n",
       "      <td>0</td>\n",
       "      <td>1</td>\n",
       "      <td>0</td>\n",
       "    </tr>\n",
       "    <tr>\n",
       "      <td>2</td>\n",
       "      <td>0</td>\n",
       "      <td>7</td>\n",
       "      <td>1</td>\n",
       "      <td>1</td>\n",
       "      <td>BB</td>\n",
       "      <td>0</td>\n",
       "      <td>Direct</td>\n",
       "      <td>0</td>\n",
       "      <td>0.0</td>\n",
       "      <td>0</td>\n",
       "      <td>0</td>\n",
       "      <td>0</td>\n",
       "      <td>1</td>\n",
       "      <td>0</td>\n",
       "    </tr>\n",
       "    <tr>\n",
       "      <td>3</td>\n",
       "      <td>0</td>\n",
       "      <td>13</td>\n",
       "      <td>1</td>\n",
       "      <td>1</td>\n",
       "      <td>BB</td>\n",
       "      <td>0</td>\n",
       "      <td>Corporate</td>\n",
       "      <td>0</td>\n",
       "      <td>0.0</td>\n",
       "      <td>1</td>\n",
       "      <td>0</td>\n",
       "      <td>0</td>\n",
       "      <td>1</td>\n",
       "      <td>0</td>\n",
       "    </tr>\n",
       "    <tr>\n",
       "      <td>4</td>\n",
       "      <td>0</td>\n",
       "      <td>14</td>\n",
       "      <td>1</td>\n",
       "      <td>2</td>\n",
       "      <td>BB</td>\n",
       "      <td>1</td>\n",
       "      <td>TA/TO</td>\n",
       "      <td>0</td>\n",
       "      <td>0.0</td>\n",
       "      <td>1</td>\n",
       "      <td>0</td>\n",
       "      <td>0</td>\n",
       "      <td>1</td>\n",
       "      <td>0</td>\n",
       "    </tr>\n",
       "  </tbody>\n",
       "</table>\n",
       "</div>"
      ],
      "text/plain": [
       "   IsCanceled  LeadTime  ArrivalSeason  peoplecount       Meal  MarketSegENC  \\\n",
       "0           0       342              1            2  BB                    0   \n",
       "1           0       737              1            2  BB                    0   \n",
       "2           0         7              1            1  BB                    0   \n",
       "3           0        13              1            1  BB                    0   \n",
       "4           0        14              1            2  BB                    1   \n",
       "\n",
       "  DistributionChannel  IsRepeatedGuest  Previous Cancellation Ratio  \\\n",
       "0              Direct                0                          0.0   \n",
       "1              Direct                0                          0.0   \n",
       "2              Direct                0                          0.0   \n",
       "3           Corporate                0                          0.0   \n",
       "4               TA/TO                0                          0.0   \n",
       "\n",
       "   SameRoomType  NonRefundable  DaysInWaitingList  TransientCust  NeedParking  \n",
       "0             1              0                  0              1            0  \n",
       "1             1              0                  0              1            0  \n",
       "2             0              0                  0              1            0  \n",
       "3             1              0                  0              1            0  \n",
       "4             1              0                  0              1            0  "
      ]
     },
     "execution_count": 17,
     "metadata": {},
     "output_type": "execute_result"
    }
   ],
   "source": [
    "# Feature Selection\n",
    "usecols = ['IsCanceled','LeadTime','ArrivalSeason','peoplecount','Meal','MarketSegENC','DistributionChannel',\n",
    "           'IsRepeatedGuest','Previous Cancellation Ratio','SameRoomType','NonRefundable','DaysInWaitingList',\n",
    "           'TransientCust','NeedParking']\n",
    "data = data[usecols]\n",
    "data.head()"
   ]
  },
  {
   "cell_type": "code",
   "execution_count": 18,
   "metadata": {},
   "outputs": [
    {
     "data": {
      "text/html": [
       "<div>\n",
       "<style scoped>\n",
       "    .dataframe tbody tr th:only-of-type {\n",
       "        vertical-align: middle;\n",
       "    }\n",
       "\n",
       "    .dataframe tbody tr th {\n",
       "        vertical-align: top;\n",
       "    }\n",
       "\n",
       "    .dataframe thead th {\n",
       "        text-align: right;\n",
       "    }\n",
       "</style>\n",
       "<table border=\"1\" class=\"dataframe\">\n",
       "  <thead>\n",
       "    <tr style=\"text-align: right;\">\n",
       "      <th></th>\n",
       "      <th>IsCanceled</th>\n",
       "      <th>LeadTime</th>\n",
       "      <th>ArrivalSeason</th>\n",
       "      <th>peoplecount</th>\n",
       "      <th>MarketSegENC</th>\n",
       "      <th>IsRepeatedGuest</th>\n",
       "      <th>Previous Cancellation Ratio</th>\n",
       "      <th>SameRoomType</th>\n",
       "      <th>NonRefundable</th>\n",
       "      <th>DaysInWaitingList</th>\n",
       "      <th>...</th>\n",
       "      <th>NeedParking</th>\n",
       "      <th>Meal_BB</th>\n",
       "      <th>Meal_FB</th>\n",
       "      <th>Meal_HB</th>\n",
       "      <th>Meal_SC</th>\n",
       "      <th>Meal_Undefined</th>\n",
       "      <th>DistributionChannel_Corporate</th>\n",
       "      <th>DistributionChannel_Direct</th>\n",
       "      <th>DistributionChannel_TA/TO</th>\n",
       "      <th>DistributionChannel_Undefined</th>\n",
       "    </tr>\n",
       "  </thead>\n",
       "  <tbody>\n",
       "    <tr>\n",
       "      <td>0</td>\n",
       "      <td>0</td>\n",
       "      <td>342</td>\n",
       "      <td>1</td>\n",
       "      <td>2</td>\n",
       "      <td>0</td>\n",
       "      <td>0</td>\n",
       "      <td>0.0</td>\n",
       "      <td>1</td>\n",
       "      <td>0</td>\n",
       "      <td>0</td>\n",
       "      <td>...</td>\n",
       "      <td>0</td>\n",
       "      <td>1</td>\n",
       "      <td>0</td>\n",
       "      <td>0</td>\n",
       "      <td>0</td>\n",
       "      <td>0</td>\n",
       "      <td>0</td>\n",
       "      <td>1</td>\n",
       "      <td>0</td>\n",
       "      <td>0</td>\n",
       "    </tr>\n",
       "    <tr>\n",
       "      <td>1</td>\n",
       "      <td>0</td>\n",
       "      <td>737</td>\n",
       "      <td>1</td>\n",
       "      <td>2</td>\n",
       "      <td>0</td>\n",
       "      <td>0</td>\n",
       "      <td>0.0</td>\n",
       "      <td>1</td>\n",
       "      <td>0</td>\n",
       "      <td>0</td>\n",
       "      <td>...</td>\n",
       "      <td>0</td>\n",
       "      <td>1</td>\n",
       "      <td>0</td>\n",
       "      <td>0</td>\n",
       "      <td>0</td>\n",
       "      <td>0</td>\n",
       "      <td>0</td>\n",
       "      <td>1</td>\n",
       "      <td>0</td>\n",
       "      <td>0</td>\n",
       "    </tr>\n",
       "    <tr>\n",
       "      <td>2</td>\n",
       "      <td>0</td>\n",
       "      <td>7</td>\n",
       "      <td>1</td>\n",
       "      <td>1</td>\n",
       "      <td>0</td>\n",
       "      <td>0</td>\n",
       "      <td>0.0</td>\n",
       "      <td>0</td>\n",
       "      <td>0</td>\n",
       "      <td>0</td>\n",
       "      <td>...</td>\n",
       "      <td>0</td>\n",
       "      <td>1</td>\n",
       "      <td>0</td>\n",
       "      <td>0</td>\n",
       "      <td>0</td>\n",
       "      <td>0</td>\n",
       "      <td>0</td>\n",
       "      <td>1</td>\n",
       "      <td>0</td>\n",
       "      <td>0</td>\n",
       "    </tr>\n",
       "    <tr>\n",
       "      <td>3</td>\n",
       "      <td>0</td>\n",
       "      <td>13</td>\n",
       "      <td>1</td>\n",
       "      <td>1</td>\n",
       "      <td>0</td>\n",
       "      <td>0</td>\n",
       "      <td>0.0</td>\n",
       "      <td>1</td>\n",
       "      <td>0</td>\n",
       "      <td>0</td>\n",
       "      <td>...</td>\n",
       "      <td>0</td>\n",
       "      <td>1</td>\n",
       "      <td>0</td>\n",
       "      <td>0</td>\n",
       "      <td>0</td>\n",
       "      <td>0</td>\n",
       "      <td>1</td>\n",
       "      <td>0</td>\n",
       "      <td>0</td>\n",
       "      <td>0</td>\n",
       "    </tr>\n",
       "    <tr>\n",
       "      <td>4</td>\n",
       "      <td>0</td>\n",
       "      <td>14</td>\n",
       "      <td>1</td>\n",
       "      <td>2</td>\n",
       "      <td>1</td>\n",
       "      <td>0</td>\n",
       "      <td>0.0</td>\n",
       "      <td>1</td>\n",
       "      <td>0</td>\n",
       "      <td>0</td>\n",
       "      <td>...</td>\n",
       "      <td>0</td>\n",
       "      <td>1</td>\n",
       "      <td>0</td>\n",
       "      <td>0</td>\n",
       "      <td>0</td>\n",
       "      <td>0</td>\n",
       "      <td>0</td>\n",
       "      <td>0</td>\n",
       "      <td>1</td>\n",
       "      <td>0</td>\n",
       "    </tr>\n",
       "  </tbody>\n",
       "</table>\n",
       "<p>5 rows × 21 columns</p>\n",
       "</div>"
      ],
      "text/plain": [
       "   IsCanceled  LeadTime  ArrivalSeason  peoplecount  MarketSegENC  \\\n",
       "0           0       342              1            2             0   \n",
       "1           0       737              1            2             0   \n",
       "2           0         7              1            1             0   \n",
       "3           0        13              1            1             0   \n",
       "4           0        14              1            2             1   \n",
       "\n",
       "   IsRepeatedGuest  Previous Cancellation Ratio  SameRoomType  NonRefundable  \\\n",
       "0                0                          0.0             1              0   \n",
       "1                0                          0.0             1              0   \n",
       "2                0                          0.0             0              0   \n",
       "3                0                          0.0             1              0   \n",
       "4                0                          0.0             1              0   \n",
       "\n",
       "   DaysInWaitingList  ...  NeedParking  Meal_BB         Meal_FB         \\\n",
       "0                  0  ...            0               1               0   \n",
       "1                  0  ...            0               1               0   \n",
       "2                  0  ...            0               1               0   \n",
       "3                  0  ...            0               1               0   \n",
       "4                  0  ...            0               1               0   \n",
       "\n",
       "   Meal_HB         Meal_SC         Meal_Undefined  \\\n",
       "0               0               0               0   \n",
       "1               0               0               0   \n",
       "2               0               0               0   \n",
       "3               0               0               0   \n",
       "4               0               0               0   \n",
       "\n",
       "   DistributionChannel_Corporate  DistributionChannel_Direct  \\\n",
       "0                              0                           1   \n",
       "1                              0                           1   \n",
       "2                              0                           1   \n",
       "3                              1                           0   \n",
       "4                              0                           0   \n",
       "\n",
       "   DistributionChannel_TA/TO  DistributionChannel_Undefined  \n",
       "0                          0                              0  \n",
       "1                          0                              0  \n",
       "2                          0                              0  \n",
       "3                          0                              0  \n",
       "4                          1                              0  \n",
       "\n",
       "[5 rows x 21 columns]"
      ]
     },
     "execution_count": 18,
     "metadata": {},
     "output_type": "execute_result"
    }
   ],
   "source": [
    "# To dummy variables\n",
    "data_oh = pd.get_dummies(data, columns=['Meal','DistributionChannel'])\n",
    "data_oh.head()"
   ]
  },
  {
   "cell_type": "code",
   "execution_count": 19,
   "metadata": {},
   "outputs": [
    {
     "name": "stdout",
     "output_type": "stream",
     "text": [
      "X shape : (40060, 20)\n",
      "y shape : (40060,)\n"
     ]
    }
   ],
   "source": [
    "# Split X, y\n",
    "X = data_oh.iloc[:,1:]\n",
    "y = data_oh.iloc[:,0]\n",
    "print('X shape : {}'.format(X.shape))\n",
    "print('y shape : {}'.format(y.shape))"
   ]
  },
  {
   "cell_type": "markdown",
   "metadata": {},
   "source": [
    "# 4. Original Model : Decision Tree Classifier\n",
    "I reimplemented the original model that has been demonstrated in our team project"
   ]
  },
  {
   "cell_type": "code",
   "execution_count": 20,
   "metadata": {},
   "outputs": [
    {
     "name": "stdout",
     "output_type": "stream",
     "text": [
      "Fold 1 : Train Accuracy = 0.8855\n",
      "Fold 1 : Test Accuracy = 0.6363\n",
      "\n",
      "Fold 2 : Train Accuracy = 0.8979\n",
      "Fold 2 : Test Accuracy = 0.4131\n",
      "\n",
      "Fold 3 : Train Accuracy = 0.9037\n",
      "Fold 3 : Test Accuracy = 0.2646\n",
      "\n",
      "Fold 4 : Train Accuracy = 0.8802\n",
      "Fold 4 : Test Accuracy = 0.6782\n",
      "\n",
      "Fold 5 : Train Accuracy = 0.8673\n",
      "Fold 5 : Test Accuracy = 0.8984\n",
      "\n",
      "Fold 6 : Train Accuracy = 0.8699\n",
      "Fold 6 : Test Accuracy = 0.8682\n",
      "\n",
      "Fold 7 : Train Accuracy = 0.8774\n",
      "Fold 7 : Test Accuracy = 0.7871\n",
      "\n",
      "Fold 8 : Train Accuracy = 0.8738\n",
      "Fold 8 : Test Accuracy = 0.7688\n",
      "\n",
      "Fold 9 : Train Accuracy = 0.8744\n",
      "Fold 9 : Test Accuracy = 0.7644\n",
      "\n",
      "Fold 10 : Train Accuracy = 0.8810\n",
      "Fold 10 : Test Accuracy = 0.6977\n",
      "\n",
      "\tK Fold Accuracy Mean : 0.6777\n",
      "\tK Fold Accuracy Standard Deviation : 0.1886\n"
     ]
    }
   ],
   "source": [
    "dt = DecisionTreeClassifier(\n",
    "    criterion='entropy',\n",
    ")\n",
    "\n",
    "tr_accs = []\n",
    "te_accs = []\n",
    "kfold = KFold(n_splits=10)\n",
    "for idx, (tr_idx, te_idx) in enumerate(kfold.split(X)) :\n",
    "    trainX = X.iloc[tr_idx, :]\n",
    "    testX = X.iloc[te_idx, :]\n",
    "    trainy = y.iloc[tr_idx]\n",
    "    testy = y.iloc[te_idx]\n",
    "    \n",
    "    dt.fit(trainX, trainy)\n",
    "    tr_pred = dt.predict(trainX)\n",
    "    te_pred = dt.predict(testX)\n",
    "    \n",
    "    tr_acc = accuracy_score(tr_pred, trainy)\n",
    "    te_acc = accuracy_score(te_pred, testy)\n",
    "    tr_accs.append(tr_acc)\n",
    "    te_accs.append(te_acc)\n",
    "    print('Fold {0} : Train Accuracy = {1:.4f}'.format(idx+1, tr_acc))\n",
    "    print('Fold {0} : Test Accuracy = {1:.4f}'.format(idx+1, te_acc))\n",
    "    print()\n",
    "\n",
    "print('\\tK Fold Accuracy Mean : {0:.4f}'.format(np.mean(te_accs)))\n",
    "print('\\tK Fold Accuracy Standard Deviation : {0:.4f}'.format(np.std(te_accs)))"
   ]
  },
  {
   "cell_type": "markdown",
   "metadata": {},
   "source": [
    "The following are some problems we can see in the original models above.<br>\n",
    "* Overfitting is observed in many folds - test accuracy is way lower than train accuracy<br>\n",
    "* There seems to be severe imbalance in label proportions.<br>\n",
    "* unstable test accuracies across folds.\n",
    "\n",
    "# 5. Improvement Measures\n",
    "\n",
    "## 5.1 Dimension Reduction\n",
    "We have many options. We may use the PCA or even a special kind of neural network called 'AutoEncoders' to reduce the dimension of the data. But since we were working on Decision Trees, we may take advantage of the feature importances. With the feature importance, we may reduce the dimension while preserving interpretability. By reducing the dimension, we'll be able to have a simpler model that performs similarly, or even better at generalization, with a lower computation cost."
   ]
  },
  {
   "cell_type": "code",
   "execution_count": 21,
   "metadata": {},
   "outputs": [
    {
     "name": "stdout",
     "output_type": "stream",
     "text": [
      "Train X shape : (30045, 20)\n",
      "Train y shape : (30045,)\n",
      "Test X shape : (10015, 20)\n",
      "Test y shape : (10015,)\n"
     ]
    }
   ],
   "source": [
    "trainx, testx, trainy, testy = train_test_split(X, y, test_size=0.25, random_state=1234)\n",
    "print('Train X shape : {}'.format(trainx.shape))\n",
    "print('Train y shape : {}'.format(trainy.shape))\n",
    "print('Test X shape : {}'.format(testx.shape))\n",
    "print('Test y shape : {}'.format(testy.shape))"
   ]
  },
  {
   "cell_type": "code",
   "execution_count": 22,
   "metadata": {},
   "outputs": [
    {
     "data": {
      "image/png": "[encoded data removed]",
      "text/plain": [
       "<Figure size 432x288 with 1 Axes>"
      ]
     },
     "metadata": {
      "needs_background": "light"
     },
     "output_type": "display_data"
    }
   ],
   "source": [
    "# Check which feature plays an important role\n",
    "dt = DecisionTreeClassifier(\n",
    "    criterion='entropy',\n",
    ")\n",
    "dt.fit(trainx, trainy)\n",
    "\n",
    "fi = pd.DataFrame({\n",
    "    'features' : list(trainx.columns),\n",
    "    'feature_importances' : dt.feature_importances_\n",
    "})\n",
    "\n",
    "fi = fi.sort_values(by='feature_importances', ascending=False)\n",
    "plt.bar(height=fi['feature_importances'], x=fi['features'])\n",
    "plt.title('feature importances')\n",
    "plt.ylabel('importances')\n",
    "plt.xticks(rotation=90)\n",
    "plt.show()\n",
    "plt.close()"
   ]
  },
  {
   "cell_type": "markdown",
   "metadata": {},
   "source": [
    "Important features seem to be :<br>\n",
    "'LeadTime','NeedParking','SameRoomType','MarketSegENC','Previous Cancellation Ratio','peoplecount','ArrivalSeason'<br>\n",
    "Now let's reduce the number of variables by using only the variables listed above."
   ]
  },
  {
   "cell_type": "code",
   "execution_count": 23,
   "metadata": {},
   "outputs": [
    {
     "data": {
      "text/html": [
       "<div>\n",
       "<style scoped>\n",
       "    .dataframe tbody tr th:only-of-type {\n",
       "        vertical-align: middle;\n",
       "    }\n",
       "\n",
       "    .dataframe tbody tr th {\n",
       "        vertical-align: top;\n",
       "    }\n",
       "\n",
       "    .dataframe thead th {\n",
       "        text-align: right;\n",
       "    }\n",
       "</style>\n",
       "<table border=\"1\" class=\"dataframe\">\n",
       "  <thead>\n",
       "    <tr style=\"text-align: right;\">\n",
       "      <th></th>\n",
       "      <th>LeadTime</th>\n",
       "      <th>NeedParking</th>\n",
       "      <th>SameRoomType</th>\n",
       "      <th>MarketSegENC</th>\n",
       "      <th>Previous Cancellation Ratio</th>\n",
       "      <th>peoplecount</th>\n",
       "      <th>ArrivalSeason</th>\n",
       "      <th>IsCanceled</th>\n",
       "    </tr>\n",
       "  </thead>\n",
       "  <tbody>\n",
       "    <tr>\n",
       "      <td>0</td>\n",
       "      <td>342</td>\n",
       "      <td>0</td>\n",
       "      <td>1</td>\n",
       "      <td>0</td>\n",
       "      <td>0.0</td>\n",
       "      <td>2</td>\n",
       "      <td>1</td>\n",
       "      <td>0</td>\n",
       "    </tr>\n",
       "    <tr>\n",
       "      <td>1</td>\n",
       "      <td>737</td>\n",
       "      <td>0</td>\n",
       "      <td>1</td>\n",
       "      <td>0</td>\n",
       "      <td>0.0</td>\n",
       "      <td>2</td>\n",
       "      <td>1</td>\n",
       "      <td>0</td>\n",
       "    </tr>\n",
       "    <tr>\n",
       "      <td>2</td>\n",
       "      <td>7</td>\n",
       "      <td>0</td>\n",
       "      <td>0</td>\n",
       "      <td>0</td>\n",
       "      <td>0.0</td>\n",
       "      <td>1</td>\n",
       "      <td>1</td>\n",
       "      <td>0</td>\n",
       "    </tr>\n",
       "    <tr>\n",
       "      <td>3</td>\n",
       "      <td>13</td>\n",
       "      <td>0</td>\n",
       "      <td>1</td>\n",
       "      <td>0</td>\n",
       "      <td>0.0</td>\n",
       "      <td>1</td>\n",
       "      <td>1</td>\n",
       "      <td>0</td>\n",
       "    </tr>\n",
       "    <tr>\n",
       "      <td>4</td>\n",
       "      <td>14</td>\n",
       "      <td>0</td>\n",
       "      <td>1</td>\n",
       "      <td>1</td>\n",
       "      <td>0.0</td>\n",
       "      <td>2</td>\n",
       "      <td>1</td>\n",
       "      <td>0</td>\n",
       "    </tr>\n",
       "    <tr>\n",
       "      <td>5</td>\n",
       "      <td>14</td>\n",
       "      <td>0</td>\n",
       "      <td>1</td>\n",
       "      <td>1</td>\n",
       "      <td>0.0</td>\n",
       "      <td>2</td>\n",
       "      <td>1</td>\n",
       "      <td>0</td>\n",
       "    </tr>\n",
       "    <tr>\n",
       "      <td>6</td>\n",
       "      <td>0</td>\n",
       "      <td>0</td>\n",
       "      <td>1</td>\n",
       "      <td>0</td>\n",
       "      <td>0.0</td>\n",
       "      <td>2</td>\n",
       "      <td>1</td>\n",
       "      <td>0</td>\n",
       "    </tr>\n",
       "    <tr>\n",
       "      <td>7</td>\n",
       "      <td>9</td>\n",
       "      <td>0</td>\n",
       "      <td>1</td>\n",
       "      <td>0</td>\n",
       "      <td>0.0</td>\n",
       "      <td>2</td>\n",
       "      <td>1</td>\n",
       "      <td>0</td>\n",
       "    </tr>\n",
       "    <tr>\n",
       "      <td>8</td>\n",
       "      <td>85</td>\n",
       "      <td>0</td>\n",
       "      <td>1</td>\n",
       "      <td>1</td>\n",
       "      <td>0.0</td>\n",
       "      <td>2</td>\n",
       "      <td>1</td>\n",
       "      <td>1</td>\n",
       "    </tr>\n",
       "    <tr>\n",
       "      <td>9</td>\n",
       "      <td>75</td>\n",
       "      <td>0</td>\n",
       "      <td>1</td>\n",
       "      <td>0</td>\n",
       "      <td>0.0</td>\n",
       "      <td>2</td>\n",
       "      <td>1</td>\n",
       "      <td>1</td>\n",
       "    </tr>\n",
       "  </tbody>\n",
       "</table>\n",
       "</div>"
      ],
      "text/plain": [
       "   LeadTime  NeedParking  SameRoomType  MarketSegENC  \\\n",
       "0       342            0             1             0   \n",
       "1       737            0             1             0   \n",
       "2         7            0             0             0   \n",
       "3        13            0             1             0   \n",
       "4        14            0             1             1   \n",
       "5        14            0             1             1   \n",
       "6         0            0             1             0   \n",
       "7         9            0             1             0   \n",
       "8        85            0             1             1   \n",
       "9        75            0             1             0   \n",
       "\n",
       "   Previous Cancellation Ratio  peoplecount  ArrivalSeason  IsCanceled  \n",
       "0                          0.0            2              1           0  \n",
       "1                          0.0            2              1           0  \n",
       "2                          0.0            1              1           0  \n",
       "3                          0.0            1              1           0  \n",
       "4                          0.0            2              1           0  \n",
       "5                          0.0            2              1           0  \n",
       "6                          0.0            2              1           0  \n",
       "7                          0.0            2              1           0  \n",
       "8                          0.0            2              1           1  \n",
       "9                          0.0            2              1           1  "
      ]
     },
     "execution_count": 23,
     "metadata": {},
     "output_type": "execute_result"
    }
   ],
   "source": [
    "data_short = data[['LeadTime','NeedParking','SameRoomType','MarketSegENC','Previous Cancellation Ratio',\n",
    "                   'peoplecount','ArrivalSeason','IsCanceled']]\n",
    "X = data_short.iloc[:,:-1]\n",
    "y = data_short.iloc[:,-1:]\n",
    "data_short.head(10)"
   ]
  },
  {
   "cell_type": "markdown",
   "metadata": {},
   "source": [
    "## 5.2 Upsampling\n",
    "We can see that the label proportion is seriously imbalanced. I will apply upsampling so as to equalize the number of instances for each label"
   ]
  },
  {
   "cell_type": "code",
   "execution_count": 24,
   "metadata": {},
   "outputs": [
    {
     "name": "stdout",
     "output_type": "stream",
     "text": [
      "Train X shape : (30045, 7)\n",
      "Train y shape : (30045, 1)\n",
      "Test X shape : (10015, 7)\n",
      "Test y shape : (10015, 1)\n",
      "portion of label 1 in Train set : 0.2807\n"
     ]
    }
   ],
   "source": [
    "trainx, testx, trainy, testy = train_test_split(X, y, test_size=0.25, random_state=1234)\n",
    "print('Train X shape : {}'.format(trainx.shape))\n",
    "print('Train y shape : {}'.format(trainy.shape))\n",
    "print('Test X shape : {}'.format(testx.shape))\n",
    "print('Test y shape : {}'.format(testy.shape))\n",
    "\n",
    "print('portion of label 1 in Train set : {0:.4f}'.format(np.mean(trainy['IsCanceled'])))"
   ]
  },
  {
   "cell_type": "code",
   "execution_count": 25,
   "metadata": {},
   "outputs": [],
   "source": [
    "def upsample(trainx, trainy):\n",
    "    label0_len = len(trainy[trainy['IsCanceled']==0])\n",
    "    label1_len = len(trainy[trainy['IsCanceled']==1])\n",
    "    num_to_smpl = label0_len - label1_len\n",
    "\n",
    "    X_cat = pd.concat([trainx, trainy], axis=1)\n",
    "    X_cat_label0 = X_cat[X_cat['IsCanceled']==0]\n",
    "    X_cat_label1 = X_cat[X_cat['IsCanceled']==1]\n",
    "    X_cat_upsmpled = resample(X_cat_label1, n_samples=num_to_smpl)\n",
    "\n",
    "    X_upsampled = pd.concat([X_cat_label0, X_cat_label1, X_cat_upsmpled], axis=0).sample(frac=1)\n",
    "\n",
    "    trainx = X_upsampled.iloc[:,:-1]\n",
    "    trainy = X_upsampled.iloc[:,-1:]\n",
    "    return trainx, trainy\n",
    "\n",
    "trainx, trainy = upsample(trainx, trainy)"
   ]
  },
  {
   "cell_type": "markdown",
   "metadata": {},
   "source": [
    "## 5.3 Pruning\n",
    "We did apply pruning in our team project, but since I have reduced the number of variables, maybe a little bit more of pruning might be needed. We'll try to find the optimal value for max_depth and min_smples_split by utilizing a grid search"
   ]
  },
  {
   "cell_type": "code",
   "execution_count": 26,
   "metadata": {
    "scrolled": false
   },
   "outputs": [
    {
     "name": "stdout",
     "output_type": "stream",
     "text": [
      "best Max Depth = 5\n",
      "best Min Samples Split = 2\n"
     ]
    }
   ],
   "source": [
    "max_depths = [3,4,5,6,7,8,9,10]\n",
    "min_samples_splits = [2,4,8,16,32]\n",
    "\n",
    "best_md = None\n",
    "best_mss = None\n",
    "max_acc = -1\n",
    "for md, mss in itertools.product(max_depths, min_samples_splits):\n",
    "    dt_improved = DecisionTreeClassifier(\n",
    "        criterion='entropy',\n",
    "        max_depth=md,\n",
    "        min_samples_split=mss\n",
    "    )\n",
    "    dt_improved.fit(trainx, trainy)\n",
    "    tr_pred = dt_improved.predict(trainx)\n",
    "    te_pred = dt_improved.predict(testx)\n",
    "    \n",
    "    if accuracy_score(te_pred, testy) > max_acc :\n",
    "        best_md = md\n",
    "        best_mss = mss\n",
    "        max_acc = accuracy_score(te_pred, testy)\n",
    "    \n",
    "#     print('Max Depth - {}  /  Min Samples Split - {}'.format(md, mss))\n",
    "#     print('Train Accuracy = {}'.format(accuracy_score(tr_pred, trainy)))\n",
    "#     print('Test Accuracy = {}'.format(accuracy_score(te_pred, testy)))\n",
    "#     print()\n",
    "print('best Max Depth = {}'.format(best_md))\n",
    "print('best Min Samples Split = {}'.format(best_mss))"
   ]
  },
  {
   "cell_type": "markdown",
   "metadata": {},
   "source": [
    "## 5.4 Ensembling\n",
    "A single decision tree may lead to overfitting. So by ensembling many different decision trees, we might get a better prediction result. The model is called Random Forest, and I plan to use the module in scikit learn."
   ]
  },
  {
   "cell_type": "code",
   "execution_count": 27,
   "metadata": {},
   "outputs": [],
   "source": [
    "rf = RandomForestClassifier(\n",
    "    criterion='entropy',\n",
    "    max_depth=4,\n",
    "    min_samples_split=2,\n",
    "    n_estimators=301 # an odd number for tie breaker\n",
    ")"
   ]
  },
  {
   "cell_type": "code",
   "execution_count": 28,
   "metadata": {},
   "outputs": [
    {
     "data": {
      "text/plain": [
       "RandomForestClassifier(bootstrap=True, class_weight=None, criterion='entropy',\n",
       "            max_depth=4, max_features='auto', max_leaf_nodes=None,\n",
       "            min_impurity_decrease=0.0, min_impurity_split=None,\n",
       "            min_samples_leaf=1, min_samples_split=2,\n",
       "            min_weight_fraction_leaf=0.0, n_estimators=301, n_jobs=None,\n",
       "            oob_score=False, random_state=None, verbose=0,\n",
       "            warm_start=False)"
      ]
     },
     "execution_count": 28,
     "metadata": {},
     "output_type": "execute_result"
    }
   ],
   "source": [
    "rf.fit(trainx, trainy)"
   ]
  },
  {
   "cell_type": "code",
   "execution_count": 29,
   "metadata": {},
   "outputs": [
    {
     "name": "stdout",
     "output_type": "stream",
     "text": [
      "Train Accuracy = 0.7664969921332716\n",
      "Test Accuracy = 0.762556165751373\n",
      "              precision    recall  f1-score   support\n",
      "\n",
      "           0       0.76      0.90      0.82      6142\n",
      "           1       0.78      0.54      0.64      3873\n",
      "\n",
      "   micro avg       0.76      0.76      0.76     10015\n",
      "   macro avg       0.77      0.72      0.73     10015\n",
      "weighted avg       0.77      0.76      0.75     10015\n",
      "\n"
     ]
    }
   ],
   "source": [
    "tr_pred = rf.predict(trainx)\n",
    "te_pred = rf.predict(testx)\n",
    "print('Train Accuracy = {}'.format(accuracy_score(tr_pred, trainy)))\n",
    "print('Test Accuracy = {}'.format(accuracy_score(te_pred, testy)))\n",
    "print(classification_report(te_pred, testy))"
   ]
  },
  {
   "cell_type": "markdown",
   "metadata": {},
   "source": [
    "# 6. Evaluation\n",
    "\n",
    "## 6.1 K-Cross Validation\n",
    "To better assess model performance, I checked with the K-Cross validation, and to be more conservative, I left out the test set for final evaluation. A separate validation set was extracted from the train set to use it for model optimization"
   ]
  },
  {
   "cell_type": "code",
   "execution_count": 30,
   "metadata": {},
   "outputs": [
    {
     "name": "stdout",
     "output_type": "stream",
     "text": [
      "Train X shape : (38898, 7)\n",
      "Train y shape : (38898, 1)\n",
      "Validation X shape : (4322, 7)\n",
      "Validation y shape : (4322, 1)\n",
      "Test X shape : (10015, 7)\n",
      "Test y shape : (10015, 1)\n"
     ]
    }
   ],
   "source": [
    "# This is just a dummy example. We will iteratively split the train data in the K-cross validation\n",
    "trainX, valX, trainY, valY = train_test_split(trainx, trainy, test_size=0.1, random_state=1111)\n",
    "print('Train X shape : {}'.format(trainX.shape))\n",
    "print('Train y shape : {}'.format(trainY.shape))\n",
    "print('Validation X shape : {}'.format(valX.shape))\n",
    "print('Validation y shape : {}'.format(valY.shape))\n",
    "print('Test X shape : {}'.format(testx.shape))\n",
    "print('Test y shape : {}'.format(testy.shape))"
   ]
  },
  {
   "cell_type": "code",
   "execution_count": 31,
   "metadata": {},
   "outputs": [
    {
     "name": "stdout",
     "output_type": "stream",
     "text": [
      "Fold 1 : Train Accuracy = 0.7637\n",
      "Fold 1 : Validation Accuracy = 0.7574\n",
      "\n",
      "Fold 2 : Train Accuracy = 0.7632\n",
      "Fold 2 : Validation Accuracy = 0.7547\n",
      "\n",
      "Fold 3 : Train Accuracy = 0.7679\n",
      "Fold 3 : Validation Accuracy = 0.7614\n",
      "\n",
      "Fold 4 : Train Accuracy = 0.7657\n",
      "Fold 4 : Validation Accuracy = 0.7498\n",
      "\n",
      "Fold 5 : Train Accuracy = 0.7678\n",
      "Fold 5 : Validation Accuracy = 0.7557\n",
      "\n",
      "Fold 6 : Train Accuracy = 0.7651\n",
      "Fold 6 : Validation Accuracy = 0.7587\n",
      "\n",
      "Fold 7 : Train Accuracy = 0.7616\n",
      "Fold 7 : Validation Accuracy = 0.7696\n",
      "\n",
      "Fold 8 : Train Accuracy = 0.7658\n",
      "Fold 8 : Validation Accuracy = 0.7720\n",
      "\n",
      "Fold 9 : Train Accuracy = 0.7587\n",
      "Fold 9 : Validation Accuracy = 0.7230\n",
      "\n",
      "Fold 10 : Train Accuracy = 0.7622\n",
      "Fold 10 : Validation Accuracy = 0.7610\n",
      "\n",
      "K Fold Accuracy Mean : 0.7563\n",
      "K Fold Accuracy Standard Deviation : 0.0128\n"
     ]
    }
   ],
   "source": [
    "trainx, testx, trainy, testy = train_test_split(X, y, test_size=0.25, random_state=1234)\n",
    "\n",
    "tr_accs = []\n",
    "val_accs = []\n",
    "kfold = KFold(n_splits=10)\n",
    "for idx, (tr_idx, val_idx) in enumerate(kfold.split(trainx)) :\n",
    "    trainX = trainx.iloc[tr_idx, :]\n",
    "    valX = trainx.iloc[val_idx, :]\n",
    "    trainY = trainy.iloc[tr_idx]\n",
    "    valY = trainy.iloc[val_idx]\n",
    "    trainX, trainY = upsample(trainX, trainY)\n",
    "    \n",
    "    rf.fit(trainX, trainY)\n",
    "    tr_pred = rf.predict(trainX)\n",
    "    val_pred = rf.predict(valX)\n",
    "    \n",
    "    tr_acc = accuracy_score(tr_pred, trainY)\n",
    "    val_acc = accuracy_score(val_pred, valY)\n",
    "    tr_accs.append(tr_acc)\n",
    "    val_accs.append(val_acc)\n",
    "    print('Fold {0} : Train Accuracy = {1:.4f}'.format(idx+1, tr_acc))\n",
    "    print('Fold {0} : Validation Accuracy = {1:.4f}'.format(idx+1, val_acc))\n",
    "    print()\n",
    "\n",
    "print('K Fold Accuracy Mean : {0:.4f}'.format(np.mean(val_accs)))\n",
    "print('K Fold Accuracy Standard Deviation : {0:.4f}'.format(np.std(val_accs)))"
   ]
  },
  {
   "cell_type": "markdown",
   "metadata": {},
   "source": [
    "## 6.1 Performance on the Test set"
   ]
  },
  {
   "cell_type": "code",
   "execution_count": 32,
   "metadata": {},
   "outputs": [
    {
     "name": "stdout",
     "output_type": "stream",
     "text": [
      "Train Accuracy = 0.7644146228597871\n",
      "Test Accuracy = 0.7627558662006989\n",
      "              precision    recall  f1-score   support\n",
      "\n",
      "           0       0.76      0.90      0.82      6140\n",
      "           1       0.78      0.54      0.64      3875\n",
      "\n",
      "   micro avg       0.76      0.76      0.76     10015\n",
      "   macro avg       0.77      0.72      0.73     10015\n",
      "weighted avg       0.77      0.76      0.75     10015\n",
      "\n"
     ]
    }
   ],
   "source": [
    "trainx, trainy = upsample(trainx, trainy)\n",
    "\n",
    "rf.fit(trainx, trainy)\n",
    "\n",
    "tr_pred = rf.predict(trainx)\n",
    "te_pred = rf.predict(testx)\n",
    "print('Train Accuracy = {}'.format(accuracy_score(tr_pred, trainy)))\n",
    "print('Test Accuracy = {}'.format(accuracy_score(te_pred, testy)))\n",
    "print(classification_report(te_pred, testy))"
   ]
  }
 ],
 "metadata": {
  "kernelspec": {
   "display_name": "Python 3",
   "language": "python",
   "name": "python3"
  },
  "language_info": {
   "codemirror_mode": {
    "name": "ipython",
    "version": 3
   },
   "file_extension": ".py",
   "mimetype": "text/x-python",
   "name": "python",
   "nbconvert_exporter": "python",
   "pygments_lexer": "ipython3",
   "version": "3.7.1"
  }
 },
 "nbformat": 4,
 "nbformat_minor": 2
}
